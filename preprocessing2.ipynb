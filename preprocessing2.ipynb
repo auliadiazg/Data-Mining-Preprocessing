{
 "cells": [
  {
   "cell_type": "markdown",
   "id": "d9289d21-814c-437a-8340-01863b887a46",
   "metadata": {},
   "source": [
    "# Tugas Pertemuan 3 Data Mining"
   ]
  },
  {
   "cell_type": "markdown",
   "id": "2d701dd7-450d-4287-8e2c-41d53400cac8",
   "metadata": {},
   "source": [
    "### Aulia Diaz Gustiavani\n",
    "### A11.2022.14446\n",
    "### A11.4509"
   ]
  },
  {
   "cell_type": "markdown",
   "id": "25a0f1e7-ba28-4825-b16f-1af322bdf406",
   "metadata": {},
   "source": [
    "# Data Preprocessing Template"
   ]
  },
  {
   "cell_type": "markdown",
   "id": "77789cbd-d0bc-4c3d-b8aa-35df854c6990",
   "metadata": {},
   "source": [
    "### Import library yang digunakan"
   ]
  },
  {
   "cell_type": "code",
   "execution_count": 1,
   "id": "020df326-63ce-49f6-b8d2-abdc5b5e1b40",
   "metadata": {},
   "outputs": [],
   "source": [
    "import numpy as np\n",
    "import matplotlib.pyplot as plt\n",
    "import pandas as pd"
   ]
  },
  {
   "cell_type": "markdown",
   "id": "d5fe1ecf-3a5d-4815-81b7-1ec61b709c4b",
   "metadata": {},
   "source": [
    "### Import Dataset"
   ]
  },
  {
   "cell_type": "code",
   "execution_count": 2,
   "id": "71f19314-e20d-4849-86cc-9c171a7bd60c",
   "metadata": {},
   "outputs": [],
   "source": [
    "dataset = pd.read_csv('Data2.csv')\n",
    "X = dataset.iloc[:, :-1].values\n",
    "y = dataset.iloc[:, -1].values"
   ]
  },
  {
   "cell_type": "code",
   "execution_count": 3,
   "id": "d96891f7-6653-4780-b56c-dc6bf28c3d02",
   "metadata": {},
   "outputs": [
    {
     "name": "stdout",
     "output_type": "stream",
     "text": [
      "[['Tokyo' 32.0 67000.0]\n",
      " ['New York' 45.0 82000.0]\n",
      " ['Berlin' nan 51000.0]\n",
      " ['Sydney' 36.0 62000.0]\n",
      " ['Paris' 41.0 70000.0]\n",
      " ['Tokyo' 33.0 58000.0]\n",
      " ['Berlin' 39.0 74000.0]\n",
      " ['New York' 29.0 nan]]\n"
     ]
    }
   ],
   "source": [
    "print(X)"
   ]
  },
  {
   "cell_type": "code",
   "execution_count": 4,
   "id": "6ab61788-7e06-4538-bb78-1973efdbd794",
   "metadata": {},
   "outputs": [
    {
     "name": "stdout",
     "output_type": "stream",
     "text": [
      "['No' 'Yes' 'No' 'Yes' 'No' 'Yes' 'Yes' 'No']\n"
     ]
    }
   ],
   "source": [
    "print(y)"
   ]
  },
  {
   "cell_type": "markdown",
   "id": "7e3e839b-4105-4ed8-92a7-f00cafe40865",
   "metadata": {},
   "source": [
    "### Menghilangkan Missing Value (nan)"
   ]
  },
  {
   "cell_type": "code",
   "execution_count": 5,
   "id": "7e30a904-5aeb-4cfe-ac9a-531510b5dc96",
   "metadata": {},
   "outputs": [],
   "source": [
    "from sklearn.impute import SimpleImputer\n",
    "imputer = SimpleImputer(missing_values=np.nan, strategy='mean')\n",
    "imputer.fit(X[:, 1:3])\n",
    "X[:, 1:3] = imputer.transform(X[:, 1:3])"
   ]
  },
  {
   "cell_type": "code",
   "execution_count": 6,
   "id": "14b7cdd1-9f4c-4617-ba92-1ca1e7dc90f8",
   "metadata": {},
   "outputs": [
    {
     "name": "stdout",
     "output_type": "stream",
     "text": [
      "[['Tokyo' 32.0 67000.0]\n",
      " ['New York' 45.0 82000.0]\n",
      " ['Berlin' 36.42857142857143 51000.0]\n",
      " ['Sydney' 36.0 62000.0]\n",
      " ['Paris' 41.0 70000.0]\n",
      " ['Tokyo' 33.0 58000.0]\n",
      " ['Berlin' 39.0 74000.0]\n",
      " ['New York' 29.0 66285.71428571429]]\n"
     ]
    }
   ],
   "source": [
    "print(X)"
   ]
  },
  {
   "cell_type": "markdown",
   "id": "e3e001f6-5469-4a46-9330-04e8b92386dc",
   "metadata": {},
   "source": [
    "### Encoding Data Kategori (Atribut)"
   ]
  },
  {
   "cell_type": "code",
   "execution_count": 7,
   "id": "1af5cb06-5096-4bc4-8c94-0b1ddcedb7f9",
   "metadata": {},
   "outputs": [],
   "source": [
    "from sklearn.compose import ColumnTransformer\n",
    "from sklearn.preprocessing import OneHotEncoder\n",
    "ct = ColumnTransformer(transformers=[('encoder', OneHotEncoder(), [0])], remainder='passthrough')\n",
    "X = np.array(ct.fit_transform(X))"
   ]
  },
  {
   "cell_type": "code",
   "execution_count": 8,
   "id": "a174a7b8-3ade-4e26-95c7-43ee66fc4ddf",
   "metadata": {},
   "outputs": [
    {
     "name": "stdout",
     "output_type": "stream",
     "text": [
      "[[0.0 0.0 0.0 0.0 1.0 32.0 67000.0]\n",
      " [0.0 1.0 0.0 0.0 0.0 45.0 82000.0]\n",
      " [1.0 0.0 0.0 0.0 0.0 36.42857142857143 51000.0]\n",
      " [0.0 0.0 0.0 1.0 0.0 36.0 62000.0]\n",
      " [0.0 0.0 1.0 0.0 0.0 41.0 70000.0]\n",
      " [0.0 0.0 0.0 0.0 1.0 33.0 58000.0]\n",
      " [1.0 0.0 0.0 0.0 0.0 39.0 74000.0]\n",
      " [0.0 1.0 0.0 0.0 0.0 29.0 66285.71428571429]]\n"
     ]
    }
   ],
   "source": [
    "print(X)"
   ]
  },
  {
   "cell_type": "markdown",
   "id": "b16c3a7e-2006-4604-a45a-500a64d02c90",
   "metadata": {},
   "source": [
    "### Encoding Data Kategori (Class / Label)"
   ]
  },
  {
   "cell_type": "code",
   "execution_count": 9,
   "id": "4ea7bed0-469f-466f-b94f-7dcd3f327211",
   "metadata": {},
   "outputs": [],
   "source": [
    "from sklearn.preprocessing import LabelEncoder\n",
    "le = LabelEncoder()\n",
    "y = le.fit_transform(y)"
   ]
  },
  {
   "cell_type": "code",
   "execution_count": 10,
   "id": "924cc7d5-6d55-4c2e-ae0f-1d695bf06dec",
   "metadata": {},
   "outputs": [
    {
     "name": "stdout",
     "output_type": "stream",
     "text": [
      "[0 1 0 1 0 1 1 0]\n"
     ]
    }
   ],
   "source": [
    "print(y)"
   ]
  },
  {
   "cell_type": "markdown",
   "id": "a485509d-43dd-449e-9a45-ad848bbd1aa3",
   "metadata": {},
   "source": [
    "### Membagi Dataset ke dalam training set dan test set"
   ]
  },
  {
   "cell_type": "code",
   "execution_count": 11,
   "id": "34d264f5-bd78-4b30-8bab-242535992bff",
   "metadata": {},
   "outputs": [],
   "source": [
    "from sklearn.model_selection import train_test_split\n",
    "X_train, X_test, y_train, y_test = train_test_split(X, y, test_size = 0.2, random_state = 1)"
   ]
  },
  {
   "cell_type": "code",
   "execution_count": 12,
   "id": "6a843c3f-aad6-424c-b771-65060216c32f",
   "metadata": {},
   "outputs": [
    {
     "name": "stdout",
     "output_type": "stream",
     "text": [
      "[[0.0 1.0 0.0 0.0 0.0 45.0 82000.0]\n",
      " [1.0 0.0 0.0 0.0 0.0 39.0 74000.0]\n",
      " [0.0 0.0 0.0 0.0 1.0 32.0 67000.0]\n",
      " [0.0 0.0 1.0 0.0 0.0 41.0 70000.0]\n",
      " [0.0 0.0 0.0 1.0 0.0 36.0 62000.0]\n",
      " [0.0 0.0 0.0 0.0 1.0 33.0 58000.0]]\n"
     ]
    }
   ],
   "source": [
    "print(X_train)"
   ]
  },
  {
   "cell_type": "code",
   "execution_count": 13,
   "id": "1daff4f7-4202-467d-b5d2-859d3a824b93",
   "metadata": {},
   "outputs": [
    {
     "name": "stdout",
     "output_type": "stream",
     "text": [
      "[[0.0 1.0 0.0 0.0 0.0 29.0 66285.71428571429]\n",
      " [1.0 0.0 0.0 0.0 0.0 36.42857142857143 51000.0]]\n"
     ]
    }
   ],
   "source": [
    "print(X_test)"
   ]
  },
  {
   "cell_type": "code",
   "execution_count": 14,
   "id": "dccee99b-0079-4b02-a0eb-2bdb62cb8b17",
   "metadata": {},
   "outputs": [
    {
     "name": "stdout",
     "output_type": "stream",
     "text": [
      "[1 1 0 0 1 1]\n"
     ]
    }
   ],
   "source": [
    "print(y_train)"
   ]
  },
  {
   "cell_type": "code",
   "execution_count": 15,
   "id": "bd9bb81c-5e45-46da-a6ec-4125ce592b02",
   "metadata": {},
   "outputs": [
    {
     "name": "stdout",
     "output_type": "stream",
     "text": [
      "[0 0]\n"
     ]
    }
   ],
   "source": [
    "print(y_test)"
   ]
  },
  {
   "cell_type": "markdown",
   "id": "cbc859d5-67cf-4318-bae8-0a581df0a75f",
   "metadata": {},
   "source": [
    "### Feature Scaling"
   ]
  },
  {
   "cell_type": "code",
   "execution_count": 16,
   "id": "16be1fae-cf08-4fa1-baff-f7d3e51fb718",
   "metadata": {},
   "outputs": [],
   "source": [
    "from sklearn.preprocessing import StandardScaler\n",
    "sc = StandardScaler()\n",
    "X_train[:, 3:] = sc.fit_transform(X_train[:, 3:])\n",
    "X_test[:, 3:] = sc.transform(X_test[:, 3:])"
   ]
  },
  {
   "cell_type": "code",
   "execution_count": 17,
   "id": "507430a5-ee69-44e2-950f-64ebd1566ef7",
   "metadata": {},
   "outputs": [
    {
     "name": "stdout",
     "output_type": "stream",
     "text": [
      "[[0.0 1.0 0.0 -0.4472135954999579 -0.7071067811865475 1.6174721686063775\n",
      "  1.6793313066801396]\n",
      " [1.0 0.0 0.0 -0.4472135954999579 -0.7071067811865475 0.29408584883752364\n",
      "  0.6589781076846121]\n",
      " [0.0 0.0 0.0 -0.4472135954999579 1.4142135623730951 -1.2498648575594726\n",
      "  -0.23383094143647443]\n",
      " [0.0 0.0 1.0 -0.4472135954999579 -0.7071067811865475 0.7352146220938083\n",
      "  0.14880150818684837]\n",
      " [0.0 0.0 0.0 2.23606797749979 -0.7071067811865475 -0.36760731104690336\n",
      "  -0.8715516908086791]\n",
      " [0.0 0.0 0.0 -0.4472135954999579 1.4142135623730951 -1.0293004709313303\n",
      "  -1.3817282903064427]]\n"
     ]
    }
   ],
   "source": [
    "print(X_train)"
   ]
  },
  {
   "cell_type": "code",
   "execution_count": 18,
   "id": "78346500-dc33-4a42-88fe-ed10e8e5c18e",
   "metadata": {},
   "outputs": [
    {
     "name": "stdout",
     "output_type": "stream",
     "text": [
      "[[0.0 1.0 0.0 -0.4472135954999579 -0.7071067811865475 -1.9115580174438997\n",
      "  -0.32493390563250313]\n",
      " [1.0 0.0 0.0 -0.4472135954999579 -0.7071067811865475\n",
      "  -0.27307971677769904 -2.2745373394275292]]\n"
     ]
    }
   ],
   "source": [
    "print(X_test)"
   ]
  },
  {
   "cell_type": "code",
   "execution_count": null,
   "id": "6aafd127-12be-45c0-bbda-d7c79258d9c3",
   "metadata": {},
   "outputs": [],
   "source": []
  }
 ],
 "metadata": {
  "kernelspec": {
   "display_name": "Python 3 (ipykernel)",
   "language": "python",
   "name": "python3"
  },
  "language_info": {
   "codemirror_mode": {
    "name": "ipython",
    "version": 3
   },
   "file_extension": ".py",
   "mimetype": "text/x-python",
   "name": "python",
   "nbconvert_exporter": "python",
   "pygments_lexer": "ipython3",
   "version": "3.12.4"
  }
 },
 "nbformat": 4,
 "nbformat_minor": 5
}
